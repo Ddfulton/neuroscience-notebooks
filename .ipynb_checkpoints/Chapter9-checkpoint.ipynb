{
 "cells": [
  {
   "cell_type": "code",
   "execution_count": 125,
   "metadata": {
    "collapsed": false
   },
   "outputs": [
    {
     "name": "stderr",
     "output_type": "stream",
     "text": [
      "\u001b[1m\u001b[36mINFO: \u001b[39m\u001b[22m\u001b[36mRecompiling stale cache file /home/vis-528/.julia/lib/v0.6/Combinatorics.ji for module Combinatorics.\n",
      "\u001b[39m\u001b[1m\u001b[33mWARNING: \u001b[39m\u001b[22m\u001b[33mThe call to compilecache failed to create a usable precompiled cache file for module Combinatorics. Got:\u001b[39m\n",
      "\u001b[1m\u001b[33mWARNING: \u001b[39m\u001b[22m\u001b[33mModule Iterators uuid did not match cache file.\u001b[39m\n"
     ]
    },
    {
     "ename": "LoadError",
     "evalue": "LoadError: \u001b[91mDeclaring __precompile__(true) is only allowed in module files being imported.\u001b[39m\nwhile loading /home/vis-528/.julia/v0.6/Combinatorics/src/Combinatorics.jl, in expression starting on line 1",
     "output_type": "error",
     "traceback": [
      "LoadError: \u001b[91mDeclaring __precompile__(true) is only allowed in module files being imported.\u001b[39m\nwhile loading /home/vis-528/.julia/v0.6/Combinatorics/src/Combinatorics.jl, in expression starting on line 1",
      "",
      "Stacktrace:",
      " [1] \u001b[1m__precompile__\u001b[22m\u001b[22m\u001b[1m(\u001b[22m\u001b[22m::Bool\u001b[1m)\u001b[22m\u001b[22m at \u001b[1m./loading.jl:335\u001b[22m\u001b[22m",
      " [2] \u001b[1minclude_from_node1\u001b[22m\u001b[22m\u001b[1m(\u001b[22m\u001b[22m::String\u001b[1m)\u001b[22m\u001b[22m at \u001b[1m./loading.jl:569\u001b[22m\u001b[22m",
      " [3] \u001b[1meval\u001b[22m\u001b[22m\u001b[1m(\u001b[22m\u001b[22m::Module, ::Any\u001b[1m)\u001b[22m\u001b[22m at \u001b[1m./boot.jl:235\u001b[22m\u001b[22m",
      " [4] \u001b[1m_require\u001b[22m\u001b[22m\u001b[1m(\u001b[22m\u001b[22m::Symbol\u001b[1m)\u001b[22m\u001b[22m at \u001b[1m./loading.jl:483\u001b[22m\u001b[22m",
      " [5] \u001b[1mrequire\u001b[22m\u001b[22m\u001b[1m(\u001b[22m\u001b[22m::Symbol\u001b[1m)\u001b[22m\u001b[22m at \u001b[1m./loading.jl:398\u001b[22m\u001b[22m",
      " [6] \u001b[1m_include_from_serialized\u001b[22m\u001b[22m\u001b[1m(\u001b[22m\u001b[22m::String\u001b[1m)\u001b[22m\u001b[22m at \u001b[1m./loading.jl:157\u001b[22m\u001b[22m",
      " [7] \u001b[1m_require_from_serialized\u001b[22m\u001b[22m\u001b[1m(\u001b[22m\u001b[22m::Int64, ::Symbol, ::String, ::Bool\u001b[1m)\u001b[22m\u001b[22m at \u001b[1m./loading.jl:200\u001b[22m\u001b[22m",
      " [8] \u001b[1m_require_search_from_serialized\u001b[22m\u001b[22m\u001b[1m(\u001b[22m\u001b[22m::Int64, ::Symbol, ::String, ::Bool\u001b[1m)\u001b[22m\u001b[22m at \u001b[1m./loading.jl:236\u001b[22m\u001b[22m",
      " [9] \u001b[1m_require\u001b[22m\u001b[22m\u001b[1m(\u001b[22m\u001b[22m::Symbol\u001b[1m)\u001b[22m\u001b[22m at \u001b[1m./loading.jl:434\u001b[22m\u001b[22m",
      " [10] \u001b[1mrequire\u001b[22m\u001b[22m\u001b[1m(\u001b[22m\u001b[22m::Symbol\u001b[1m)\u001b[22m\u001b[22m at \u001b[1m./loading.jl:398\u001b[22m\u001b[22m",
      " [11] \u001b[1m_include_from_serialized\u001b[22m\u001b[22m\u001b[1m(\u001b[22m\u001b[22m::String\u001b[1m)\u001b[22m\u001b[22m at \u001b[1m./loading.jl:157\u001b[22m\u001b[22m",
      " [12] \u001b[1m_require_from_serialized\u001b[22m\u001b[22m\u001b[1m(\u001b[22m\u001b[22m::Int64, ::Symbol, ::String, ::Bool\u001b[1m)\u001b[22m\u001b[22m at \u001b[1m./loading.jl:200\u001b[22m\u001b[22m",
      " [13] \u001b[1m_require_search_from_serialized\u001b[22m\u001b[22m\u001b[1m(\u001b[22m\u001b[22m::Int64, ::Symbol, ::String, ::Bool\u001b[1m)\u001b[22m\u001b[22m at \u001b[1m./loading.jl:236\u001b[22m\u001b[22m",
      " [14] \u001b[1m_require\u001b[22m\u001b[22m\u001b[1m(\u001b[22m\u001b[22m::Symbol\u001b[1m)\u001b[22m\u001b[22m at \u001b[1m./loading.jl:434\u001b[22m\u001b[22m",
      " [15] \u001b[1mrequire\u001b[22m\u001b[22m\u001b[1m(\u001b[22m\u001b[22m::Symbol\u001b[1m)\u001b[22m\u001b[22m at \u001b[1m./loading.jl:398\u001b[22m\u001b[22m"
     ]
    }
   ],
   "source": [
    "using DifferentialEquations\n",
    "using NLsolve\n",
    "using Roots\n",
    "using PyPlot\n",
    "using Plots\n",
    "using PyCall"
   ]
  },
  {
   "cell_type": "markdown",
   "metadata": {},
   "source": [
    "## 9.1 MM, GG and RinzelHH \n",
    "Based on equation 9.3"
   ]
  },
  {
   "cell_type": "code",
   "execution_count": 157,
   "metadata": {
    "collapsed": false
   },
   "outputs": [
    {
     "data": {
      "text/plain": [
       "Vnull (generic function with 1 method)"
      ]
     },
     "execution_count": 157,
     "metadata": {},
     "output_type": "execute_result"
    }
   ],
   "source": [
    "function MM(V)\n",
    "    # Na action variable\n",
    "    U = -V - 70\n",
    "    Alpha = 0.1*(U + 25)./(exp((U+25)/10) - 1)\n",
    "    Beta = 4*exp(U/18)\n",
    "    return Alpha./(Alpha + Beta)\n",
    "end\n",
    "\n",
    "function GG(V)\n",
    "    # Equilibrium value of recovery variable W for Hodgkin-Huxley Equations\n",
    "    S = 1.2714\n",
    "    U = -V - 70 # for new Rinzel system\n",
    "    AH = 0.07*exp(U/20)\n",
    "    BH = (1 + exp((U+30)/10)).^(-1)\n",
    "    Hh = AH./(AH + BH);  # Na+ inactivation variable\n",
    "    AN = 0.01*(U+10)./(exp((U+10)/10) - 1)\n",
    "    BN = 0.125*exp(U/80)\n",
    "    Nn = AN./(AN + BN)\n",
    "    return S*(Nn + S*(1 - Hh))./(1 + S^2)\n",
    "end\n",
    "\n",
    "function Vnull(W, VX, IE)\n",
    "    # dV/dt = 0 isocline for Rinzel\n",
    "    S = 1.2714\n",
    "    U = -VX - 70  # For new Rinzel formulation\n",
    "    Alpha = 0.1*(U + 25)./(exp((U+25)/10) - 1)\n",
    "    Beta = 4*exp(U/18)\n",
    "    M = Alpha./(Alpha + Beta + 0.000001)\n",
    "    Result =(IE - 120*M^3*(1-W)*(VX-55) - 36*(W/S)^4*(VX+92) - 0.3*(VX+50.528))^2\n",
    "end"
   ]
  },
  {
   "cell_type": "markdown",
   "metadata": {},
   "source": [
    "# RinzelHH.m"
   ]
  },
  {
   "cell_type": "code",
   "execution_count": 155,
   "metadata": {
    "collapsed": false
   },
   "outputs": [
    {
     "name": "stdout",
     "output_type": "stream",
     "text": [
      "WW[j] = 3.535891483736887e6\n",
      "WW[j] = 3.321920954863389e6\n",
      "WW[j] = 3.1090827583915363e6\n"
     ]
    },
    {
     "ename": "LoadError",
     "evalue": "\u001b[91mPyError (ccall(@pysym(:PyObject_Call), PyPtr, (PyPtr, PyPtr, PyPtr), o, arg, C_NULL)) <type 'exceptions.ValueError'>\nValueError('x and y must have same first dimension',)\n  File \"/usr/lib/pymodules/python2.7/matplotlib/pyplot.py\", line 2987, in plot\n    ret = ax.plot(*args, **kwargs)\n  File \"/usr/lib/pymodules/python2.7/matplotlib/axes.py\", line 4137, in plot\n    for line in self._get_lines(*args, **kwargs):\n  File \"/usr/lib/pymodules/python2.7/matplotlib/axes.py\", line 326, in _grab_next_args\n    for seg in self._plot_args(remaining[:isplit], kwargs):\n  File \"/usr/lib/pymodules/python2.7/matplotlib/axes.py\", line 295, in _plot_args\n    x, y = self._xy_from_xy(x, y)\n  File \"/usr/lib/pymodules/python2.7/matplotlib/axes.py\", line 237, in _xy_from_xy\n    raise ValueError(\"x and y must have same first dimension\")\n\u001b[39m",
     "output_type": "error",
     "traceback": [
      "\u001b[91mPyError (ccall(@pysym(:PyObject_Call), PyPtr, (PyPtr, PyPtr, PyPtr), o, arg, C_NULL)) <type 'exceptions.ValueError'>\nValueError('x and y must have same first dimension',)\n  File \"/usr/lib/pymodules/python2.7/matplotlib/pyplot.py\", line 2987, in plot\n    ret = ax.plot(*args, **kwargs)\n  File \"/usr/lib/pymodules/python2.7/matplotlib/axes.py\", line 4137, in plot\n    for line in self._get_lines(*args, **kwargs):\n  File \"/usr/lib/pymodules/python2.7/matplotlib/axes.py\", line 326, in _grab_next_args\n    for seg in self._plot_args(remaining[:isplit], kwargs):\n  File \"/usr/lib/pymodules/python2.7/matplotlib/axes.py\", line 295, in _plot_args\n    x, y = self._xy_from_xy(x, y)\n  File \"/usr/lib/pymodules/python2.7/matplotlib/axes.py\", line 237, in _xy_from_xy\n    raise ValueError(\"x and y must have same first dimension\")\n\u001b[39m",
      "",
      "Stacktrace:",
      " [1] \u001b[1mpyerr_check\u001b[22m\u001b[22m at \u001b[1m/home/vis-528/.julia/v0.6/PyCall/src/exception.jl:56\u001b[22m\u001b[22m [inlined]",
      " [2] \u001b[1mpyerr_check\u001b[22m\u001b[22m at \u001b[1m/home/vis-528/.julia/v0.6/PyCall/src/exception.jl:61\u001b[22m\u001b[22m [inlined]",
      " [3] \u001b[1mmacro expansion\u001b[22m\u001b[22m at \u001b[1m/home/vis-528/.julia/v0.6/PyCall/src/exception.jl:81\u001b[22m\u001b[22m [inlined]",
      " [4] \u001b[1m#_pycall#66\u001b[22m\u001b[22m\u001b[1m(\u001b[22m\u001b[22m::Array{Any,1}, ::Function, ::PyCall.PyObject, ::StepRange{Int64,Int64}, ::Vararg{Any,N} where N\u001b[1m)\u001b[22m\u001b[22m at \u001b[1m/home/vis-528/.julia/v0.6/PyCall/src/PyCall.jl:620\u001b[22m\u001b[22m",
      " [5] \u001b[1m_pycall\u001b[22m\u001b[22m\u001b[1m(\u001b[22m\u001b[22m::PyCall.PyObject, ::StepRange{Int64,Int64}, ::Vararg{Any,N} where N\u001b[1m)\u001b[22m\u001b[22m at \u001b[1m/home/vis-528/.julia/v0.6/PyCall/src/PyCall.jl:608\u001b[22m\u001b[22m",
      " [6] \u001b[1m#pycall#70\u001b[22m\u001b[22m\u001b[1m(\u001b[22m\u001b[22m::Array{Any,1}, ::Function, ::PyCall.PyObject, ::Type{PyCall.PyAny}, ::StepRange{Int64,Int64}, ::Vararg{Any,N} where N\u001b[1m)\u001b[22m\u001b[22m at \u001b[1m/home/vis-528/.julia/v0.6/PyCall/src/PyCall.jl:642\u001b[22m\u001b[22m",
      " [7] \u001b[1mpycall\u001b[22m\u001b[22m\u001b[1m(\u001b[22m\u001b[22m::PyCall.PyObject, ::Type{PyCall.PyAny}, ::StepRange{Int64,Int64}, ::Vararg{Any,N} where N\u001b[1m)\u001b[22m\u001b[22m at \u001b[1m/home/vis-528/.julia/v0.6/PyCall/src/PyCall.jl:642\u001b[22m\u001b[22m",
      " [8] \u001b[1m#plot#85\u001b[22m\u001b[22m\u001b[1m(\u001b[22m\u001b[22m::Array{Any,1}, ::Function, ::StepRange{Int64,Int64}, ::Vararg{Any,N} where N\u001b[1m)\u001b[22m\u001b[22m at \u001b[1m/home/vis-528/.julia/v0.6/PyPlot/src/PyPlot.jl:172\u001b[22m\u001b[22m",
      " [9] \u001b[1mplot\u001b[22m\u001b[22m\u001b[1m(\u001b[22m\u001b[22m::StepRange{Int64,Int64}, ::Vararg{Any,N} where N\u001b[1m)\u001b[22m\u001b[22m at \u001b[1m/home/vis-528/.julia/v0.6/PyPlot/src/PyPlot.jl:169\u001b[22m\u001b[22m"
     ]
    }
   ],
   "source": [
    "#This particular variation has VNa = +55; VK = -92, and VL = -50.52\n",
    "#Solution of Rinzel-Hodgkin-Huxley Equations\n",
    "#Tempreature of 16.3 deg C\n",
    "#The resting potential is -70 mV\n",
    "DT = 0.02;  #Time increment in msec.\n",
    "Last = 1000;  #Last time step\n",
    "Time = DT*[1:Last];  #Time vector\n",
    "V = zeros(1, Last);  #Vectors to store results\n",
    "W = zeros(1, Last)\n",
    "IE = 5# input(\"Stimulating current (range 0-200): \");  #External Current\n",
    "S = 1.2714\n",
    "V[1] = -70;  #Put initial conditions here\n",
    "W[1] = 0.40388;  #This is the resting value\n",
    "\n",
    "for T = 2:Last\n",
    "    VV = V[T-1]\n",
    "    WW = W[T-1]\n",
    "    IEE = IE\n",
    "    for RK = 1:2  #Second Order Runge-Kutta\n",
    "        M = MM(VV)  #This and following lines calculate V dependent terms\n",
    "        Geq = GG(VV)  #Winfinity or equilibrium value\n",
    "        Tau = 5*exp.(-(VV+60)^2/55^2) + 1\n",
    "        V[T] = V[T-1] + (RK/2)*DT*(IEE - 120*M^3*(1-WW)*(VV-55) - 36*(WW/S)^4*(VV+92) - 0.3*(VV+50.528))\n",
    "        W[T] = W[T-1] + (RK/2)*DT*(3*(Geq - WW)/Tau)\n",
    "        VV = V[T]\n",
    "        WW = W[T]\n",
    "    end\n",
    "end\n",
    "\n",
    "WS = (W - 0.40388)*100 - 70;  #Scaled to approximate units\n",
    "\n",
    "figure(1)\n",
    "Pz = PyPlot.plot(Time[1],V[1, :], \"r\")\n",
    "\n",
    "xlabel(\"Time (ms)\")\n",
    "ylabel(\"V(t)\") \n",
    "title(\"Rinzel Approximation to Hodgkin-Huxley\")\n",
    "\n",
    "Wnull = -99:4:61\n",
    "\n",
    "S = 1.2714\n",
    "U = -Wnull - 70;  #for new Rinzel system()\n",
    "AH = 0.07*exp.(U/20)\n",
    "BH = (1 + exp.((U+30)/10)).^(-1)\n",
    "Hh = AH./(AH + BH);  #Na+ inactiWnullation Wnullariable\n",
    "AN = 0.01*(U+10)./(exp.((U+10)/10) - 1)\n",
    "BN = 0.125*exp.(U/80)\n",
    "Nn = AN./(AN + BN)\n",
    "DW = S*(Nn + S*(1 - Hh))./(1 + S^2)\n",
    "\n",
    "\n",
    "WW = zeros(23)\n",
    "Vplot = linspace(90, 54, length(WW))\n",
    "x = linspace(0, .95, 100)\n",
    "for j = 1:3#23\n",
    "    VX = Vplot[j]\n",
    "    y = Vnull.(x, VX, IE)\n",
    "    # Minimum of Vnull on (0.1, 0.95)\n",
    "    WW[j] = minimum(y)\n",
    "    @show WW[j]\n",
    "end\n",
    "\n",
    "figure(2)\n",
    "PF = plot(Wnull, DW, \"-b\", Vplot, WW[1, :], \"-k\", V, W, \"-r\")\n",
    "axis([-100, 60, 0, 1])\n",
    "axis square\n",
    "xlabel('V'); ylabel('R'); title('Phase Plane, dV/dt = 0 (black), dR/dt = 0 (blue) & limit cycle (red)');\n"
   ]
  },
  {
   "cell_type": "code",
   "execution_count": 154,
   "metadata": {
    "collapsed": false
   },
   "outputs": [
    {
     "name": "stdout",
     "output_type": "stream",
     "text": [
      "size(Wnull) = (41,)\n",
      "size(DW) = (41,)\n",
      "size(Vplot) = (23,)\n",
      "size(WW) = (23,)\n",
      "size(V) = (1, 1000)\n",
      "size(W) = (1, 1000)\n"
     ]
    },
    {
     "data": {
      "text/plain": [
       "(1, 1000)"
      ]
     },
     "execution_count": 154,
     "metadata": {},
     "output_type": "execute_result"
    }
   ],
   "source": [
    "@show size(Wnull)\n",
    "@show size(DW)\n",
    "@show size(Vplot)\n",
    "@show size(WW)\n",
    "@show size(V)\n",
    "@show size(W)\n"
   ]
  },
  {
   "cell_type": "code",
   "execution_count": 156,
   "metadata": {
    "collapsed": false
   },
   "outputs": [
    {
     "ename": "LoadError",
     "evalue": "\u001b[91mMethodError: no method matching Vnull(::Float64)\u001b[0m\nClosest candidates are:\n  Vnull(::Any, \u001b[91m::Any\u001b[39m, \u001b[91m::Any\u001b[39m) at In[131]:24\u001b[39m",
     "output_type": "error",
     "traceback": [
      "\u001b[91mMethodError: no method matching Vnull(::Float64)\u001b[0m\nClosest candidates are:\n  Vnull(::Any, \u001b[91m::Any\u001b[39m, \u001b[91m::Any\u001b[39m) at In[131]:24\u001b[39m",
      "",
      "Stacktrace:",
      " [1] \u001b[1mbroadcast_t\u001b[22m\u001b[22m\u001b[1m(\u001b[22m\u001b[22m::Function, ::Type{Any}, ::Tuple{Base.OneTo{Int64}}, ::CartesianRange{CartesianIndex{1}}, ::StepRangeLen{Float64,Base.TwicePrecision{Float64},Base.TwicePrecision{Float64}}\u001b[1m)\u001b[22m\u001b[22m at \u001b[1m./broadcast.jl:256\u001b[22m\u001b[22m",
      " [2] \u001b[1mbroadcast_c\u001b[22m\u001b[22m at \u001b[1m./broadcast.jl:319\u001b[22m\u001b[22m [inlined]",
      " [3] \u001b[1mbroadcast\u001b[22m\u001b[22m\u001b[1m(\u001b[22m\u001b[22m::Function, ::StepRangeLen{Float64,Base.TwicePrecision{Float64},Base.TwicePrecision{Float64}}\u001b[1m)\u001b[22m\u001b[22m at \u001b[1m./broadcast.jl:434\u001b[22m\u001b[22m",
      " [4] \u001b[1mfminbnd\u001b[22m\u001b[22m\u001b[1m(\u001b[22m\u001b[22m::Function, ::Float64, ::Float64\u001b[1m)\u001b[22m\u001b[22m at \u001b[1m./In[119]:34\u001b[22m\u001b[22m"
     ]
    }
   ],
   "source": [
    "fminbnd(Vnull, .1, .95)"
   ]
  },
  {
   "cell_type": "code",
   "execution_count": null,
   "metadata": {
    "collapsed": true
   },
   "outputs": [],
   "source": []
  }
 ],
 "metadata": {
  "kernelspec": {
   "display_name": "Julia 0.6.0",
   "language": "julia",
   "name": "julia-0.6"
  },
  "language_info": {
   "file_extension": ".jl",
   "mimetype": "application/julia",
   "name": "julia",
   "version": "0.6.0"
  },
  "widgets": {
   "state": {},
   "version": "1.1.2"
  }
 },
 "nbformat": 4,
 "nbformat_minor": 0
}
