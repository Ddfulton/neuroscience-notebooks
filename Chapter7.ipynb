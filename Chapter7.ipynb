{
 "cells": [
  {
   "cell_type": "code",
   "execution_count": 1,
   "metadata": {
    "collapsed": true
   },
   "outputs": [],
   "source": [
    "using DifferentialEquations\n",
    "using NLsolve\n",
    "using Roots\n",
    "using PyPlot\n",
    "using Plots\n",
    "using PyCall"
   ]
  },
  {
   "cell_type": "markdown",
   "metadata": {},
   "source": [
    "# General Runge-Kutta for Second-Order ODEs"
   ]
  },
  {
   "cell_type": "code",
   "execution_count": 11,
   "metadata": {
    "collapsed": false
   },
   "outputs": [
    {
     "data": {
      "text/plain": [
       "RungeKutta (generic function with 4 methods)"
      ]
     },
     "execution_count": 11,
     "metadata": {},
     "output_type": "execute_result"
    }
   ],
   "source": [
    "function RungeKutta(eqxns::Array{Function}, Stim::Int64, finish::Int64, dt::Float16) \n",
    "    \"\"\"\n",
    "    Give it an array of functions representing ODEs you want to numerically solve.\n",
    "    Right now this only works for second-order ODEs represented with a 2x2 Jacobian\n",
    "    \"\"\"\n",
    "    DT = dt # Time step\n",
    "    Last = Int64(finish./DT + 1)\n",
    "    Time = DT.*(0:Last-1) # Time vector\n",
    "    WTS = [1 2 2 1]\n",
    "    \n",
    "    # Pre-initialize arrays for speed\n",
    "    X = Array{Float64}(length(eqxns), length(Time))\n",
    "    K = Array{Float64}(length(eqxns), 4)\n",
    "    Weights = Array{Float64}(length(eqxns), 4)\n",
    "    \n",
    "    # THIS LOOP WORKS\n",
    "    for NU = 1:2 # Two equations\n",
    "        X[NU, :] = zeros(1, Last) \n",
    "        K[NU, :] = zeros(1, 4)\n",
    "        Weights[NU, :] = WTS\n",
    "    end\n",
    "    \n",
    "    Wt2 = [0 .5 .5 1] # Runge-Kutta weights\n",
    "    rkIndex = [1 1 2 3] # Runge-Kutta index\n",
    "\n",
    "    tic() # Start timing\n",
    "    for T = 2:Last # For each time point\n",
    "        for rk = 1:4 # Fourth order Runge-Kutta\n",
    "            \n",
    "            # Define X(i+1)\n",
    "            XH = X[:, T-1] + K[:, rkIndex[rk]]*Wt2[rk]\n",
    "            \n",
    "            # Naka-Rushton: M = 100, N = 2, σ = 30\n",
    "            j = 1\n",
    "            for eq in eqxns\n",
    "                K[j, rk] = DT*eq(XH[1], XH[2], Stim)[1]\n",
    "                j += 1\n",
    "            end\n",
    "\n",
    "        end\n",
    "        # Assign the time point X[:, T]\n",
    "        X[:, T] = X[:, T-1] + sum((Weights.*K)', 1)'/6\n",
    "    end\n",
    "    toc()\n",
    "    \n",
    "    return X, Time\n",
    "end"
   ]
  },
  {
   "cell_type": "markdown",
   "metadata": {},
   "source": [
    "## 9.1 MM, GG and RinzelHH \n",
    "Based on equation 9.3"
   ]
  },
  {
   "cell_type": "code",
   "execution_count": 12,
   "metadata": {
    "collapsed": false
   },
   "outputs": [
    {
     "data": {
      "text/plain": [
       "GG (generic function with 1 method)"
      ]
     },
     "execution_count": 12,
     "metadata": {},
     "output_type": "execute_result"
    }
   ],
   "source": [
    "function MM(V)\n",
    "    # Na action variable\n",
    "    U = -V - 70\n",
    "    Alpha = 0.1*(U + 25)./(exp((U+25)/10) - 1)\n",
    "    Beta = 4*exp(U/18)\n",
    "    return Alpha./(Alpha + Beta)\n",
    "end\n",
    "\n",
    "function GG(V)\n",
    "    # Equilibrium value of recovery variable W for Hodgkin-Huxley Equations\n",
    "    S = 1.2714\n",
    "    U = -V - 70 # for new Rinzel system\n",
    "    AH = 0.07*exp(U/20)\n",
    "    BH = (1 + exp((U+30)/10)).^(-1)\n",
    "    Hh = AH./(AH + BH);  # Na+ inactivation variable\n",
    "    AN = 0.01*(U+10)./(exp((U+10)/10) - 1)\n",
    "    BN = 0.125*exp(U/80)\n",
    "    Nn = AN./(AN + BN)\n",
    "    return S*(Nn + S*(1 - Hh))./(1 + S^2)\n",
    "end\n",
    "\n"
   ]
  },
  {
   "cell_type": "markdown",
   "metadata": {},
   "source": [
    "# RinzelHH.m"
   ]
  },
  {
   "cell_type": "code",
   "execution_count": 14,
   "metadata": {
    "collapsed": false
   },
   "outputs": [
    {
     "data": {
      "text/plain": [
       "0.9860308458558551"
      ]
     },
     "execution_count": 14,
     "metadata": {},
     "output_type": "execute_result"
    }
   ],
   "source": [
    "\n",
    "#This particular variation has VNa = +55; VK = -92, and VL = -50.52\n",
    "#Solution of Rinzel-Hodgkin-Huxley Equations\n",
    "#Tempreature of 16.3 deg C\n",
    "\n",
    "global IE VX\n",
    "DT = 0.02\n",
    "Last = 1000\n",
    "Time = DT.*(1:Last) #Time vector\n",
    "\n",
    "# Vectors to store results for V and W, use X[1, :] for V and X[2, :] for W\n",
    "V = zeros(1, Last) \n",
    "W = zeros(1, Last)\n",
    "#0<Input<10 for spike generation\n",
    "IE = 5#IE = input(\"Stimulating current (range 0-200): \");  #External Current\n",
    "\n",
    "S = 1.2714\n",
    "# Initial conditions for Voltage and recovery Variable\n",
    "V[1] = -70;  #Put initial conditions here\n",
    "W[1] = 0.40388;  #This is the resting value\n",
    "TT1 = clock()\n",
    "for T = 2:Last\n",
    "\n",
    "    \n",
    "    for RK = 1:2  # Second Order Runge-Kutta\n",
    "        \n",
    "        M = MM(V[T-1])\n",
    "        Geq = GG[V[T-1]]\n",
    "        \n",
    "        M = MM[VV];  # This and following lines calculate V dependent terms\n",
    "        Geq = GG[VV];  # infinity or equilibrium value\n",
    "        Tau = 5*exp(-(VV+60)^2/55^2) + 1\n",
    "        V[T] = V[T-1] + (RK/2)*DT*(IE - 120*M^3*(1-WW)*(VV-55) - 36*(WW/S)^4*(VV+92) - 0.3*(VV+50.528))\n",
    "        W[T] = W[T-1] + (RK/2)*DT*(3*(Geq - WW)/Tau)\n",
    "        VV = V[T]\n",
    "        WW = W[T]\n",
    "  end\n",
    "end\n",
    "\n",
    "# Scaled to approximate units\n",
    "WS = (W - 0.40388)*100 - 70\n",
    "\n",
    "figure(1) \n",
    "Pz = PyPlot.plot(Time, V, \"-r'); set(Pz, 'LineWidth\", 2)\n",
    "axis([0, DT*Last, -100, 55])\n",
    "xlabel(\"Time (ms)'); ylabel('V[t]'); title('Rinzel Approximation to Hodgkin-Huxley\")\n",
    "Wnull = (-99:4:61)\n",
    "\n",
    "S = 1.2714\n",
    "U = -Wnull - 70;  #for new Rinzel system()\n",
    "AH = 0.07*exp(U/20)\n",
    "BH = (1 + exp((U+30)/10)).^(-1)\n",
    "Hh = AH./(AH + BH);  #Na+ inactiWnullation Wnullariable\n",
    "AN = 0.01*(U+10)./(exp((U+10)/10) - 1)\n",
    "BN = 0.125*exp(U/80)\n",
    "Nn = AN./(AN + BN)\n",
    "DW = S*(Nn + S*(1 - Hh))./(1 + S^2)\n",
    "\n",
    "WW = zeros(1, 23)\n",
    "Vplot = (-90:6:54)\n",
    "for j = 1:25\n",
    "  VX = Vplot[j()]\n",
    "  WW[j()] = fmin(\"Vnull\", 0.1, 0.95, 0)\n",
    "end\n",
    "figure(2), PF = plot(Wnull, DW, \"-b', Vplot, WW, '-k', V, W, '-r'); set(PF, 'LineWidth\", 2)\n",
    "axis([-100, 60, 0, 1]); axis square\n",
    "xlabel(\"V'); ylabel('R'); title('Phase Plane, dV/dt = 0 (black), dR/dt = 0 (blue) & limit cycle (red)\")\n"
   ]
  },
  {
   "cell_type": "code",
   "execution_count": null,
   "metadata": {
    "collapsed": true
   },
   "outputs": [],
   "source": []
  }
 ],
 "metadata": {
  "kernelspec": {
   "display_name": "Julia 0.6.0",
   "language": "julia",
   "name": "julia-0.6"
  },
  "language_info": {
   "file_extension": ".jl",
   "mimetype": "application/julia",
   "name": "julia",
   "version": "0.6.0"
  },
  "widgets": {
   "state": {},
   "version": "1.1.2"
  }
 },
 "nbformat": 4,
 "nbformat_minor": 0
}
