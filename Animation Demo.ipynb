{
 "cells": [
  {
   "cell_type": "code",
   "execution_count": 1,
   "metadata": {},
   "outputs": [
    {
     "ename": "LoadError",
     "evalue": "\u001b[91mcould not spawn `convert -delay 10 -loop 0 'heart_*.png' heart.gif`: no such file or directory (ENOENT)\u001b[39m",
     "output_type": "error",
     "traceback": [
      "\u001b[91mcould not spawn `convert -delay 10 -loop 0 'heart_*.png' heart.gif`: no such file or directory (ENOENT)\u001b[39m",
      "",
      "Stacktrace:",
      " [1] \u001b[1m_jl_spawn\u001b[22m\u001b[22m\u001b[1m(\u001b[22m\u001b[22m::String, ::Array{String,1}, ::Ptr{Void}, ::Base.Process, ::RawFD, ::RawFD, ::RawFD\u001b[1m)\u001b[22m\u001b[22m at \u001b[1m./process.jl:360\u001b[22m\u001b[22m",
      " [2] \u001b[1m#373\u001b[22m\u001b[22m at \u001b[1m./process.jl:512\u001b[22m\u001b[22m [inlined]",
      " [3] \u001b[1msetup_stdio\u001b[22m\u001b[22m\u001b[1m(\u001b[22m\u001b[22m::Base.##373#374{Cmd}, ::Tuple{RawFD,RawFD,RawFD}\u001b[1m)\u001b[22m\u001b[22m at \u001b[1m./process.jl:499\u001b[22m\u001b[22m",
      " [4] \u001b[1m#spawn#372\u001b[22m\u001b[22m\u001b[1m(\u001b[22m\u001b[22m::Nullable{Base.ProcessChain}, ::Function, ::Cmd, ::Tuple{RawFD,RawFD,RawFD}\u001b[1m)\u001b[22m\u001b[22m at \u001b[1m./process.jl:511\u001b[22m\u001b[22m",
      " [5] \u001b[1mrun\u001b[22m\u001b[22m\u001b[1m(\u001b[22m\u001b[22m::Cmd\u001b[1m)\u001b[22m\u001b[22m at \u001b[1m./process.jl:650\u001b[22m\u001b[22m"
     ]
    }
   ],
   "source": [
    "# https://gist.github.com/genkuroki/612c5769025d0dfd92456c56067203f4\n",
    "\n",
    "using PyPlot\n",
    "\n",
    "function meshgrid(vx::AbstractVector{T}, vy::AbstractVector{T}) where T\n",
    "    m, n = length(vy), length(vx)\n",
    "    vx = reshape(vx, 1, n)\n",
    "    vy = reshape(vy, m, 1)\n",
    "    (repmat(vx, m, 1), repmat(vy, 1, n))\n",
    "end\n",
    "\n",
    "r = 2.0\n",
    "xx = [linspace(-r,r,1000);]\n",
    "yy = [linspace(-r,r,1000);]\n",
    "x, y = meshgrid(xx, yy)\n",
    "\n",
    "filename = \"heart\"\n",
    "\n",
    "withfig(figure(figsize=(6,6))) do\n",
    "    k = 1\n",
    "    for t in [0:0.02:1; 0.98:-0.02:-0.98; -1:0.02:-0.02]\n",
    "        a = 3*t^5\n",
    "        z = (x.^2 + y.^2 .- 1).^3 - a * x.^2 .* y.^3\n",
    "        clf()\n",
    "        contour(xx, yy, z, [0.0;],cmap=ColorMap(\"Reds_r\"))\n",
    "        title(@sprintf(\"t = %.2f\", t))\n",
    "        axes()[:set_aspect](\"equal\")\n",
    "        savefig(filename*@sprintf(\"_%04d\",k), bbox_inches=\"tight\")\n",
    "        k = k+1\n",
    "    end\n",
    "end\n",
    "\n",
    "run(`convert -delay 10 -loop 0 $(filename)_\\*.png $filename.gif`)\n",
    "\n",
    "open(filename*\".gif\") do f\n",
    "    base64_video = base64encode(f)\n",
    "    display(\"text/html\", \"\"\"<img src=\"data:image/gif;base64,$base64_video\">\"\"\")\n",
    "end"
   ]
  },
  {
   "cell_type": "code",
   "execution_count": 9,
   "metadata": {},
   "outputs": [],
   "source": [
    "using PyPlot"
   ]
  },
  {
   "cell_type": "code",
   "execution_count": 17,
   "metadata": {},
   "outputs": [
    {
     "ename": "LoadError",
     "evalue": "\u001b[91mArgumentError: Module Iterators not found in current path.\nRun `Pkg.add(\"Iterators\")` to install the Iterators package.\u001b[39m",
     "output_type": "error",
     "traceback": [
      "\u001b[91mArgumentError: Module Iterators not found in current path.\nRun `Pkg.add(\"Iterators\")` to install the Iterators package.\u001b[39m",
      "",
      "Stacktrace:",
      " [1] \u001b[1m_require\u001b[22m\u001b[22m\u001b[1m(\u001b[22m\u001b[22m::Symbol\u001b[1m)\u001b[22m\u001b[22m at \u001b[1m./loading.jl:428\u001b[22m\u001b[22m",
      " [2] \u001b[1mrequire\u001b[22m\u001b[22m\u001b[1m(\u001b[22m\u001b[22m::Symbol\u001b[1m)\u001b[22m\u001b[22m at \u001b[1m./loading.jl:398\u001b[22m\u001b[22m"
     ]
    }
   ],
   "source": [
    "pyplot(leg=false, size=(500,300))\n",
    "X=1:0.1:2.7\n",
    "Y=exp.(X)\n",
    "PyPlot.plot(X, Y)\n",
    "\n",
    "using Plots, Iterators\n",
    "itr = repeatedly(()->rand(10), 20)\n",
    "animate(itr, ylims=(0,1), c=:red, fps=5)"
   ]
  },
  {
   "cell_type": "code",
   "execution_count": null,
   "metadata": {
    "collapsed": true
   },
   "outputs": [],
   "source": []
  }
 ],
 "metadata": {
  "kernelspec": {
   "display_name": "Julia 0.6.0",
   "language": "julia",
   "name": "julia-0.6"
  },
  "language_info": {
   "file_extension": ".jl",
   "mimetype": "application/julia",
   "name": "julia",
   "version": "0.6.0"
  }
 },
 "nbformat": 4,
 "nbformat_minor": 2
}
